{
  "nbformat": 4,
  "nbformat_minor": 0,
  "metadata": {
    "colab": {
      "name": "List and loop review.ipynb",
      "provenance": [],
      "authorship_tag": "ABX9TyPKX5rc3rA9X+Fre+mMPki/",
      "include_colab_link": true
    },
    "kernelspec": {
      "name": "python3",
      "display_name": "Python 3"
    }
  },
  "cells": [
    {
      "cell_type": "markdown",
      "metadata": {
        "id": "view-in-github",
        "colab_type": "text"
      },
      "source": [
        "<a href=\"https://colab.research.google.com/github/mahamapara/PythonPractice/blob/master/List_and_loop_review.ipynb\" target=\"_parent\"><img src=\"https://colab.research.google.com/assets/colab-badge.svg\" alt=\"Open In Colab\"/></a>"
      ]
    },
    {
      "cell_type": "code",
      "metadata": {
        "id": "pTbbHJAt1wnr",
        "colab_type": "code",
        "colab": {
          "base_uri": "https://localhost:8080/",
          "height": 34
        },
        "outputId": "8bbc939e-0cae-41e7-a128-663931a0ffc0"
      },
      "source": [
        "list1 = [ 45 , 76 , 123 , 568 , 32 ]\n",
        "list2 = [ ]\n",
        "\n",
        "\n",
        "list1[1] #76\n",
        "\n",
        "len(list2) #0\n",
        "\n",
        "list1[ len(list1) - 1] #32\n",
        "\n",
        "\"giraffe\" in list2 #false"
      ],
      "execution_count": 1,
      "outputs": [
        {
          "output_type": "execute_result",
          "data": {
            "text/plain": [
              "False"
            ]
          },
          "metadata": {
            "tags": []
          },
          "execution_count": 1
        }
      ]
    },
    {
      "cell_type": "code",
      "metadata": {
        "id": "n2SIQlUA2I7f",
        "colab_type": "code",
        "colab": {}
      },
      "source": [
        "def count_item (alist, item):\n",
        "  count = 0\n",
        "  for element in alist:\n",
        "    if element == item:\n",
        "      count += 1\n",
        "  return count\n",
        "\n",
        "#returns a count of how many times the item is in alist"
      ],
      "execution_count": 5,
      "outputs": []
    },
    {
      "cell_type": "code",
      "metadata": {
        "id": "-T5TUGGP2ogk",
        "colab_type": "code",
        "colab": {
          "base_uri": "https://localhost:8080/",
          "height": 34
        },
        "outputId": "7672469c-c5ab-4daf-e799-739f8f299993"
      },
      "source": [
        "count_item([\"m\",\"a\",\"h\",\"a\"],\"a\")"
      ],
      "execution_count": 8,
      "outputs": [
        {
          "output_type": "execute_result",
          "data": {
            "text/plain": [
              "2"
            ]
          },
          "metadata": {
            "tags": []
          },
          "execution_count": 8
        }
      ]
    },
    {
      "cell_type": "markdown",
      "metadata": {
        "id": "immj01oK3Vz2",
        "colab_type": "text"
      },
      "source": [
        "Write a function that takes a list of numbers and filters out all numbers smaller than 0.\n",
        "The function should create & return a new list containing only the positive numbers from\n",
        "the argument list. For example, if my function is called filter( ) , then this call\n",
        "filter([ 4 , 6 , -3 , 7 , -8 , 2 , -10 , -11 , 3 ])\n",
        "will return: [ 4 , 6 , 7 , 2 , 3 ]"
      ]
    },
    {
      "cell_type": "code",
      "metadata": {
        "id": "2L9X1iCM3Mzb",
        "colab_type": "code",
        "colab": {}
      },
      "source": [
        "def filter(myls):\n",
        "  newls = []\n",
        "  for element in myls:\n",
        "    if element >= 0:\n",
        "      newls = newls + [element]\n",
        "  return newls"
      ],
      "execution_count": 16,
      "outputs": []
    },
    {
      "cell_type": "code",
      "metadata": {
        "id": "8d_BlhP24DID",
        "colab_type": "code",
        "colab": {
          "base_uri": "https://localhost:8080/",
          "height": 34
        },
        "outputId": "7a78d3ae-fae0-45d3-f773-6abf35638398"
      },
      "source": [
        "filter([4 ,6 ,-3 ,7 ,-8 ,2 ,-10 ,-11 ,3])"
      ],
      "execution_count": 17,
      "outputs": [
        {
          "output_type": "execute_result",
          "data": {
            "text/plain": [
              "[4, 6, 7, 2, 3]"
            ]
          },
          "metadata": {
            "tags": []
          },
          "execution_count": 17
        }
      ]
    },
    {
      "cell_type": "markdown",
      "metadata": {
        "id": "9WtXS5FY48ZA",
        "colab_type": "text"
      },
      "source": [
        "Define a function that takes two parameters, a list of numbers and a single number. It\n",
        "should return a list containing all of the original list elements that are greater than the\n",
        "specified number. For example, if my function is called greaterThan( ), then this call\n",
        "greaterThan([ 4 , 6 , -3 , 7 , -8 , 2 , -10 , -11 , 3 ], 5)\n",
        "will return: [ 6 , 7 ]"
      ]
    },
    {
      "cell_type": "code",
      "metadata": {
        "id": "HE02pFA-4sxD",
        "colab_type": "code",
        "colab": {}
      },
      "source": [
        "def great(ls_num, num):\n",
        "  newls = []\n",
        "  for element in ls_num:\n",
        "    if element > num:\n",
        "      newls = newls + [element]\n",
        "  return newls"
      ],
      "execution_count": 18,
      "outputs": []
    },
    {
      "cell_type": "code",
      "metadata": {
        "id": "bFful--A5UTV",
        "colab_type": "code",
        "colab": {
          "base_uri": "https://localhost:8080/",
          "height": 34
        },
        "outputId": "75339a76-980f-487b-d6dc-4db7c837dfcb"
      },
      "source": [
        "great([ 4 , 6 , -3 , 7 , -8 , 2 , -10 , -11 , 3 ], 5)"
      ],
      "execution_count": 19,
      "outputs": [
        {
          "output_type": "execute_result",
          "data": {
            "text/plain": [
              "[6, 7]"
            ]
          },
          "metadata": {
            "tags": []
          },
          "execution_count": 19
        }
      ]
    },
    {
      "cell_type": "markdown",
      "metadata": {
        "id": "EE3_rJcR5X52",
        "colab_type": "text"
      },
      "source": [
        "Define a function that takes a list of positive numbers and returns the smallest one. If\n",
        "the list is empty, the function should return -1. (Don't use the built-in function min.)"
      ]
    },
    {
      "cell_type": "code",
      "metadata": {
        "id": "HzN3CnrP5YD6",
        "colab_type": "code",
        "colab": {}
      },
      "source": [
        "def mini(myls):\n",
        "  if len(myls) == 0:\n",
        "    return -1\n",
        "  else:\n",
        "    newls = myls[0]\n",
        "    for element in myls:\n",
        "      if element < newls:\n",
        "        newls = element\n",
        "  return newls"
      ],
      "execution_count": 20,
      "outputs": []
    },
    {
      "cell_type": "code",
      "metadata": {
        "id": "ebzm804W6bsu",
        "colab_type": "code",
        "colab": {
          "base_uri": "https://localhost:8080/",
          "height": 34
        },
        "outputId": "f6361b37-8cea-49ef-d90c-e7957b084180"
      },
      "source": [
        "mini([100, 23, 34, 45, 19])"
      ],
      "execution_count": 24,
      "outputs": [
        {
          "output_type": "execute_result",
          "data": {
            "text/plain": [
              "19"
            ]
          },
          "metadata": {
            "tags": []
          },
          "execution_count": 24
        }
      ]
    },
    {
      "cell_type": "markdown",
      "metadata": {
        "id": "jy7ynPPE6t0e",
        "colab_type": "text"
      },
      "source": [
        "Study these two functions. How do they differ, what does the result of each tell you\n",
        "about the argument list? When you think you’ve got it figured out, run the code and see\n",
        "what happens."
      ]
    },
    {
      "cell_type": "code",
      "metadata": {
        "id": "1cNzOqaB6t9H",
        "colab_type": "code",
        "colab": {}
      },
      "source": [
        "def mystery1(alist):\n",
        "  result = alist[0]\n",
        "  for element in alist:\n",
        "    if element < result:\n",
        "      result = element\n",
        "  return result\n",
        "\n",
        "def mystery2(alist):\n",
        "  result = 0\n",
        "  for index in range(0 , len(alist)):\n",
        "    if alist[index] < alist[result]:\n",
        "      result = index\n",
        "  return result\n",
        "\n",
        "print (mystery1 ([ 7 , 23 , 7 , 4 , 1 , 4 , 5 ])) #1 becasue is the min function\n",
        "print (mystery2 ([ 7 , 23 , 7 , 4 , 1 , 4 , 5 ]))"
      ],
      "execution_count": null,
      "outputs": []
    }
  ]
}