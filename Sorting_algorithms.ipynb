{
  "nbformat": 4,
  "nbformat_minor": 0,
  "metadata": {
    "colab": {
      "name": "Sorting algorithms.ipynb",
      "provenance": [],
      "authorship_tag": "ABX9TyNdQvh+BsNMhUSi+0IU/wZa",
      "include_colab_link": true
    },
    "kernelspec": {
      "name": "python3",
      "display_name": "Python 3"
    }
  },
  "cells": [
    {
      "cell_type": "markdown",
      "metadata": {
        "id": "view-in-github",
        "colab_type": "text"
      },
      "source": [
        "<a href=\"https://colab.research.google.com/github/mahamapara/PythonPractice/blob/master/Sorting_algorithms.ipynb\" target=\"_parent\"><img src=\"https://colab.research.google.com/assets/colab-badge.svg\" alt=\"Open In Colab\"/></a>"
      ]
    },
    {
      "cell_type": "markdown",
      "metadata": {
        "id": "8p9_Q1O1cARE",
        "colab_type": "text"
      },
      "source": [
        "Bubble sort, O(n^2)"
      ]
    },
    {
      "cell_type": "code",
      "metadata": {
        "id": "JzguXrmQcDfS",
        "colab_type": "code",
        "colab": {}
      },
      "source": [
        ""
      ],
      "execution_count": null,
      "outputs": []
    },
    {
      "cell_type": "markdown",
      "metadata": {
        "id": "Y9-jCqCjcD0e",
        "colab_type": "text"
      },
      "source": [
        "Insertion sort, , O(n^2)"
      ]
    },
    {
      "cell_type": "code",
      "metadata": {
        "id": "JkWBofHBcFVl",
        "colab_type": "code",
        "colab": {}
      },
      "source": [
        ""
      ],
      "execution_count": null,
      "outputs": []
    },
    {
      "cell_type": "markdown",
      "metadata": {
        "id": "-_s1L3TtcFib",
        "colab_type": "text"
      },
      "source": [
        "Merge sort, O(n*logn) [best and worst case]"
      ]
    },
    {
      "cell_type": "code",
      "metadata": {
        "id": "ocXQKbjEcG6o",
        "colab_type": "code",
        "colab": {}
      },
      "source": [
        ""
      ],
      "execution_count": null,
      "outputs": []
    },
    {
      "cell_type": "markdown",
      "metadata": {
        "id": "kkgYdepWcHKY",
        "colab_type": "text"
      },
      "source": [
        "Quick sort, best case = O(n*logn), worst case = O(n^2)"
      ]
    },
    {
      "cell_type": "code",
      "metadata": {
        "id": "vCClQ23GcIkV",
        "colab_type": "code",
        "colab": {}
      },
      "source": [
        ""
      ],
      "execution_count": null,
      "outputs": []
    }
  ]
}