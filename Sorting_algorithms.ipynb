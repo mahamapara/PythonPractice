{
  "nbformat": 4,
  "nbformat_minor": 0,
  "metadata": {
    "colab": {
      "name": "Sorting algorithms.ipynb",
      "provenance": [],
      "authorship_tag": "ABX9TyOnfjnFz7y31s+qG3L+TdjP",
      "include_colab_link": true
    },
    "kernelspec": {
      "name": "python3",
      "display_name": "Python 3"
    }
  },
  "cells": [
    {
      "cell_type": "markdown",
      "metadata": {
        "id": "view-in-github",
        "colab_type": "text"
      },
      "source": [
        "<a href=\"https://colab.research.google.com/github/mahamapara/PythonPractice/blob/master/Sorting_algorithms.ipynb\" target=\"_parent\"><img src=\"https://colab.research.google.com/assets/colab-badge.svg\" alt=\"Open In Colab\"/></a>"
      ]
    },
    {
      "cell_type": "markdown",
      "metadata": {
        "id": "8p9_Q1O1cARE",
        "colab_type": "text"
      },
      "source": [
        "Bubble sort, O(n^2)"
      ]
    },
    {
      "cell_type": "code",
      "metadata": {
        "id": "JzguXrmQcDfS",
        "colab_type": "code",
        "colab": {
          "base_uri": "https://localhost:8080/",
          "height": 34
        },
        "outputId": "5a01d34d-33a8-42e6-df82-1ad7b7cc8e1f"
      },
      "source": [
        "def bubbleSort(array):\n",
        "  for i in range(len(array)-1):\n",
        "    for j in range(len(array)-i-1):\n",
        "      if array[j] > array[j+1]:\n",
        "        temp = array[j]\n",
        "        array[j] = array[j+1]\n",
        "        array[j+1] = temp\n",
        "  print(array)\n",
        "\n",
        "bubbleSort([2,7,5,9])"
      ],
      "execution_count": 14,
      "outputs": [
        {
          "output_type": "stream",
          "text": [
            "[2, 5, 7, 9]\n"
          ],
          "name": "stdout"
        }
      ]
    },
    {
      "cell_type": "markdown",
      "metadata": {
        "id": "Y9-jCqCjcD0e",
        "colab_type": "text"
      },
      "source": [
        "Insertion sort, , O(n^2)"
      ]
    },
    {
      "cell_type": "code",
      "metadata": {
        "id": "JkWBofHBcFVl",
        "colab_type": "code",
        "colab": {
          "base_uri": "https://localhost:8080/",
          "height": 34
        },
        "outputId": "ae9102d4-b319-4bf0-9c5b-fd98a7b046bf"
      },
      "source": [
        "def insertionSort(array):\n",
        "  for i in range(len(array)):\n",
        "    #j = i + 1\n",
        "    for j in range(len(array)):\n",
        "      if array[j] > array [i]:\n",
        "        temp = array[i]\n",
        "        array[i] = array[j]\n",
        "        array[j] = temp\n",
        "  print(array)\n",
        "\n",
        "insertionSort([2,7,5,9]) "
      ],
      "execution_count": 15,
      "outputs": [
        {
          "output_type": "stream",
          "text": [
            "[2, 5, 7, 9]\n"
          ],
          "name": "stdout"
        }
      ]
    },
    {
      "cell_type": "markdown",
      "metadata": {
        "id": "-_s1L3TtcFib",
        "colab_type": "text"
      },
      "source": [
        "Merge sort, O(n*logn) [best and worst case]"
      ]
    },
    {
      "cell_type": "code",
      "metadata": {
        "id": "ocXQKbjEcG6o",
        "colab_type": "code",
        "colab": {
          "base_uri": "https://localhost:8080/",
          "height": 51
        },
        "outputId": "a12d632c-6d0c-4f17-bf3d-87faab36b0f6"
      },
      "source": [
        "def mergeSort(arr):\n",
        "  n = len(arr)\n",
        "  if n < 2:\n",
        "    return \n",
        "  \n",
        "  mid = n//2\n",
        "\n",
        "  #dividing array elements into two halves\n",
        "  left_arr = arr[:mid]\n",
        "  right_arr = arr[mid:]\n",
        "\n",
        "  mergeSort(left_arr)\n",
        "  mergeSort(right_arr)\n",
        "\n",
        "\n",
        "  i = j = k = 0\n",
        "\n",
        "  # Copy data to temp arrays left_arr[] and right_arr[] \n",
        "  while i < len(left_arr) and j < len(right_arr): \n",
        "      if left_arr[i] < right_arr[j]: \n",
        "         arr[k] = left_arr[i] \n",
        "         i+= 1\n",
        "      else: \n",
        "          arr[k] = right_arr[j] \n",
        "          j+= 1\n",
        "          k+= 1\n",
        "          \n",
        "  # Checking if any element was left \n",
        "  while i < len(left_arr): \n",
        "      arr[k] = left_arr[i] \n",
        "      i+= 1\n",
        "      k+= 1\n",
        "          \n",
        "  while j < len(right_arr): \n",
        "      arr[k] = right_arr[j] \n",
        "      j+= 1\n",
        "      k+= 1\n",
        "  \n",
        "# Code to print the list \n",
        "def printList(arr): \n",
        "    for i in range(len(arr)):         \n",
        "        print(arr[i], end =\" \") \n",
        "    print() \n",
        "  \n",
        "# driver code to test the above code \n",
        "if __name__ == '__main__': \n",
        "    arr = [12, 11, 13, 5, 6, 7]  \n",
        "    #print (\"Given array is\", end =\"\\n\")  \n",
        "    print(arr) \n",
        "    mergeSort(arr) \n",
        "    #print(\"Sorted array is: \", end =\"\\n\") \n",
        "    print(arr) \n"
      ],
      "execution_count": 18,
      "outputs": [
        {
          "output_type": "stream",
          "text": [
            "[12, 11, 13, 5, 6, 7]\n",
            "[7, 7, 7, 13, 13, 13]\n"
          ],
          "name": "stdout"
        }
      ]
    },
    {
      "cell_type": "markdown",
      "metadata": {
        "id": "kkgYdepWcHKY",
        "colab_type": "text"
      },
      "source": [
        "Quick sort, best case = O(n*logn), worst case = O(n^2)"
      ]
    },
    {
      "cell_type": "code",
      "metadata": {
        "id": "vCClQ23GcIkV",
        "colab_type": "code",
        "colab": {
          "base_uri": "https://localhost:8080/",
          "height": 136
        },
        "outputId": "327428a0-5b11-48ac-a485-820b43bbb4d5"
      },
      "source": [
        "import random\n",
        "\n",
        "def quickSort(array):\n",
        "  #print(array)\n",
        "  quicksort(array, 0, len(array) -1)\n",
        "\n",
        "def quicksort(array, low, high):\n",
        "  if low < high:\n",
        "    p = partition(array, low, high)\n",
        "\n",
        "    #quick sort on items left of the pivot\n",
        "    quicksort(array,low,p-1)\n",
        "\n",
        "    #quick sort on items right of the pivot\n",
        "    quicksort(array,p+1,high)\n",
        "\n",
        "    #print(array)\n",
        "\n",
        "def partition(array, low, high):\n",
        "\n",
        "  pivotIndex = random.randint(low, high)\n",
        "  pivot = array[pivotIndex]\n",
        "\n",
        "  #swap pivot into left most poistion of array/list\n",
        "  array[pivotIndex], array[low] = array[low], array[pivotIndex]\n",
        "\n",
        "  border = low\n",
        "\n",
        "  for i in range(low, high + 1):\n",
        "\n",
        "    #if the current value is less than the pivot value, we want to swap it with the border value\n",
        "    #this way all the values below the pivot will be swapped to the left side of the list witht the border being the control point\n",
        "    if array[i] < pivot:\n",
        "      border += 1\n",
        "      array[i], array[border] = array[border], array[i]\n",
        "  array[low], array[border] = array[border], array[low]\n",
        "\n",
        "  print(array)\n",
        "\n",
        "  return border\n",
        "\n",
        "quickSort([13, 9, 0, 6, 47, 18, 29, 23, 44, 11, 1])\n",
        "\n",
        "\n",
        "\n",
        "\n",
        "\n",
        "\n",
        "\n",
        "\n",
        "\n",
        "\n",
        "\n"
      ],
      "execution_count": 7,
      "outputs": [
        {
          "output_type": "stream",
          "text": [
            "[1, 9, 0, 6, 18, 13, 23, 11, 29, 47, 44]\n",
            "[11, 9, 0, 6, 1, 13, 18, 23, 29, 47, 44]\n",
            "[11, 9, 0, 6, 1, 13, 18, 23, 29, 47, 44]\n",
            "[0, 1, 9, 6, 11, 13, 18, 23, 29, 47, 44]\n",
            "[0, 1, 6, 9, 11, 13, 18, 23, 29, 47, 44]\n",
            "[0, 1, 6, 9, 11, 13, 18, 23, 29, 47, 44]\n",
            "[0, 1, 6, 9, 11, 13, 18, 23, 29, 44, 47]\n"
          ],
          "name": "stdout"
        }
      ]
    }
  ]
}