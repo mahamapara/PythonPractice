{
  "nbformat": 4,
  "nbformat_minor": 0,
  "metadata": {
    "colab": {
      "name": "Python functions.ipynb",
      "provenance": [],
      "authorship_tag": "ABX9TyOjp/mPXr3UTUom23vMPdtt",
      "include_colab_link": true
    },
    "kernelspec": {
      "name": "python3",
      "display_name": "Python 3"
    }
  },
  "cells": [
    {
      "cell_type": "markdown",
      "metadata": {
        "id": "view-in-github",
        "colab_type": "text"
      },
      "source": [
        "<a href=\"https://colab.research.google.com/github/mahamapara/PythonPractice/blob/master/Python_functions.ipynb\" target=\"_parent\"><img src=\"https://colab.research.google.com/assets/colab-badge.svg\" alt=\"Open In Colab\"/></a>"
      ]
    },
    {
      "cell_type": "markdown",
      "metadata": {
        "id": "cvo8XmJg3mzk"
      },
      "source": [
        "Palindrom function (bottom is mine)"
      ]
    },
    {
      "cell_type": "code",
      "metadata": {
        "id": "3-vWPU7C2EQ8",
        "outputId": "4566e215-677f-4b5b-a02c-0ef22a1f6230",
        "colab": {
          "base_uri": "https://localhost:8080/",
          "height": 34
        }
      },
      "source": [
        "#palindrome function\n",
        "\n",
        "def isPalindrome(x):\n",
        "  return x == x[::-1]\n",
        "\n",
        "#driver code\n",
        "\n",
        "x = \"malayala\"\n",
        "ans = isPalindrome(x)\n",
        "\n",
        "if ans:\n",
        "  print(\"yes\")\n",
        "else:\n",
        "  print(\"no\")"
      ],
      "execution_count": null,
      "outputs": [
        {
          "output_type": "stream",
          "text": [
            "no\n"
          ],
          "name": "stdout"
        }
      ]
    },
    {
      "cell_type": "code",
      "metadata": {
        "id": "3cIs4Zln3G_7",
        "outputId": "a7d2e2ad-57e1-46ed-d510-fe236d84555e",
        "colab": {
          "base_uri": "https://localhost:8080/",
          "height": 34
        }
      },
      "source": [
        "def isPalindrome(x):\n",
        "  if x == x[::-1]:\n",
        "    print(\"yes\")\n",
        "  else:\n",
        "    print(\"no\")\n",
        "\n",
        "isPalindrome(\"rotato\")"
      ],
      "execution_count": null,
      "outputs": [
        {
          "output_type": "stream",
          "text": [
            "no\n"
          ],
          "name": "stdout"
        }
      ]
    },
    {
      "cell_type": "markdown",
      "metadata": {
        "id": "AJMJkZdQ3h5O"
      },
      "source": [
        "Fizzbuzz: Write a Python program which iterates the integers from 1 to 50. For multiples of three print \"Fizz\" instead of the number and for the multiples of five print \"Buzz\". For numbers which are multiples of both three and five print \"FizzBuzz\" (conditionals)."
      ]
    },
    {
      "cell_type": "code",
      "metadata": {
        "id": "lgJX80jm3kn5",
        "outputId": "0559828b-7c7f-44d4-9fda-1cf2ea04b274",
        "colab": {
          "base_uri": "https://localhost:8080/",
          "height": 867
        }
      },
      "source": [
        "def fizzbuzz():\n",
        "  for i in range(1,51):\n",
        "    if i%3 == 0 and i%5 == 0:\n",
        "      print(\"FizzBuzz\")\n",
        "    elif i%3 == 0:\n",
        "      print(\"Fizz\")\n",
        "    elif i%5 == 0:\n",
        "      print(\"Buzz\")\n",
        "    else:\n",
        "      print(i)\n",
        "\n",
        "fizzbuzz()"
      ],
      "execution_count": null,
      "outputs": [
        {
          "output_type": "stream",
          "text": [
            "1\n",
            "2\n",
            "Fizz\n",
            "4\n",
            "Buzz\n",
            "Fizz\n",
            "7\n",
            "8\n",
            "Fizz\n",
            "Buzz\n",
            "11\n",
            "Fizz\n",
            "13\n",
            "14\n",
            "FizzBuzz\n",
            "16\n",
            "17\n",
            "Fizz\n",
            "19\n",
            "Buzz\n",
            "Fizz\n",
            "22\n",
            "23\n",
            "Fizz\n",
            "Buzz\n",
            "26\n",
            "Fizz\n",
            "28\n",
            "29\n",
            "FizzBuzz\n",
            "31\n",
            "32\n",
            "Fizz\n",
            "34\n",
            "Buzz\n",
            "Fizz\n",
            "37\n",
            "38\n",
            "Fizz\n",
            "Buzz\n",
            "41\n",
            "Fizz\n",
            "43\n",
            "44\n",
            "FizzBuzz\n",
            "46\n",
            "47\n",
            "Fizz\n",
            "49\n",
            "Buzz\n"
          ],
          "name": "stdout"
        }
      ]
    },
    {
      "cell_type": "markdown",
      "metadata": {
        "id": "71xkh6ub2AsB"
      },
      "source": [
        "Less than 100: given two numbers, return true if the sum of both numbers is less than 100 and false if it is 100 or larger"
      ]
    },
    {
      "cell_type": "code",
      "metadata": {
        "id": "p4JWZVnj2A_6",
        "outputId": "7b1f9710-d583-47d5-f067-f8d18845fc84",
        "colab": {
          "base_uri": "https://localhost:8080/",
          "height": 34
        }
      },
      "source": [
        "def lessThanHund(num1, num2):\n",
        "  x = num1 + num2\n",
        "  if x < 100:\n",
        "    return True\n",
        "  else:\n",
        "    return False \n",
        "\n",
        "lessThanHund(3,78)\n",
        "lessThanHund(99,2)"
      ],
      "execution_count": null,
      "outputs": [
        {
          "output_type": "execute_result",
          "data": {
            "text/plain": [
              "True"
            ]
          },
          "metadata": {
            "tags": []
          },
          "execution_count": 3
        }
      ]
    },
    {
      "cell_type": "markdown",
      "metadata": {
        "id": "3qoFBw5v5EOW"
      },
      "source": [
        "Given a list of timestamps in sequential order, return a list of lists grouped by weekly aggregation.\n"
      ]
    },
    {
      "cell_type": "code",
      "metadata": {
        "id": "rsNaWMtE67Mp"
      },
      "source": [
        "def weekgrouping(timelist):\n",
        "  "
      ],
      "execution_count": null,
      "outputs": []
    },
    {
      "cell_type": "markdown",
      "metadata": {
        "id": "QLxht56t611R"
      },
      "source": [
        "Given a list of characters, a list of prior of probabilities for each character, and a matrix of probabilities for each character combination, return the optimal sequence for the highest probability.\n"
      ]
    },
    {
      "cell_type": "code",
      "metadata": {
        "id": "vY0ZB0sk67uz"
      },
      "source": [
        ""
      ],
      "execution_count": null,
      "outputs": []
    },
    {
      "cell_type": "markdown",
      "metadata": {
        "id": "a9d1wGrr629E"
      },
      "source": [
        "Given a log file with rows featuring a date, a number, and then a string of names, parse the log file and return the count of unique names aggregated by month.\n"
      ]
    },
    {
      "cell_type": "code",
      "metadata": {
        "id": "HOZT_BXo68eQ"
      },
      "source": [
        ""
      ],
      "execution_count": null,
      "outputs": []
    },
    {
      "cell_type": "markdown",
      "metadata": {
        "id": "4Kmy2-fIVdWW"
      },
      "source": [
        "https://leetcode.com/problems/two-sum/"
      ]
    },
    {
      "cell_type": "markdown",
      "metadata": {
        "id": "QzYkJte4VifV"
      },
      "source": [
        "Two sum: Given an array of integers, return indices of the two numbers such that they add up to a specific target.\n",
        "\n",
        "You may assume that each input would have exactly one solution, and you may not use the same element twice."
      ]
    },
    {
      "cell_type": "code",
      "metadata": {
        "id": "jOOQDUBSVdwv"
      },
      "source": [
        ""
      ],
      "execution_count": null,
      "outputs": []
    },
    {
      "cell_type": "markdown",
      "metadata": {
        "id": "tTOziAcwC0Po"
      },
      "source": [
        "Delete products"
      ]
    },
    {
      "cell_type": "code",
      "metadata": {
        "id": "iMpTn-5QC1rb"
      },
      "source": [
        "def deleteProducts(ids, m):\n",
        "    n = len(ids)\n",
        "    \n",
        "    #create a dictionary that keeps the count of each id in the array/purse\n",
        "    count_dic = {}\n",
        "    #print(count_dic)\n",
        "    \n",
        "    #count how often each number appears and store in the dictionary\n",
        "    for i in range(n):\n",
        "        count_dic[ids[i]] = count_dic.get(ids[i], 0) +1\n",
        "    #print(count_dic)\n",
        "        \n",
        "    #count occurence of the frequency from above in count_dic in new array freq\n",
        "    freq = [0]*(n+1)\n",
        "    \n",
        "    for j in count_dic:\n",
        "        freq[count_dic[j]] += 1\n",
        "    #print(freq)\n",
        "    \n",
        "    #get total number of different ids\n",
        "    count_len = len(count_dic)\n",
        "    #print(count_len) \n",
        "    \n",
        "    for k in range (1,n+1):\n",
        "        arr = freq[k]\n",
        "        if (arr == 0):\n",
        "            continue\n",
        "        \n",
        "        #remove m items to get minimum number of different IDs the final bag can contain\n",
        "        rem = min(arr, m//k)\n",
        "        #print(rem)\n",
        "        count_len = count_len - rem \n",
        "        #print(count_len)\n",
        "        m = m - k*rem \n",
        "         \n",
        "    return count_len\n",
        "if __name__ == '__main__':"
      ],
      "execution_count": null,
      "outputs": []
    }
  ]
}