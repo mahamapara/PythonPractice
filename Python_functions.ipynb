{
  "nbformat": 4,
  "nbformat_minor": 0,
  "metadata": {
    "colab": {
      "name": "Python functions.ipynb",
      "provenance": [],
      "authorship_tag": "ABX9TyMcJWZCTyOj2XXfz59ZM12u",
      "include_colab_link": true
    },
    "kernelspec": {
      "name": "python3",
      "display_name": "Python 3"
    }
  },
  "cells": [
    {
      "cell_type": "markdown",
      "metadata": {
        "id": "view-in-github",
        "colab_type": "text"
      },
      "source": [
        "<a href=\"https://colab.research.google.com/github/mahamapara/PythonPractice/blob/master/Python_functions.ipynb\" target=\"_parent\"><img src=\"https://colab.research.google.com/assets/colab-badge.svg\" alt=\"Open In Colab\"/></a>"
      ]
    },
    {
      "cell_type": "markdown",
      "metadata": {
        "id": "cvo8XmJg3mzk",
        "colab_type": "text"
      },
      "source": [
        "Palindrom function (bottom is mine)"
      ]
    },
    {
      "cell_type": "code",
      "metadata": {
        "id": "3-vWPU7C2EQ8",
        "colab_type": "code",
        "colab": {
          "base_uri": "https://localhost:8080/",
          "height": 34
        },
        "outputId": "4566e215-677f-4b5b-a02c-0ef22a1f6230"
      },
      "source": [
        "#palindrome function\n",
        "\n",
        "def isPalindrome(x):\n",
        "  return x == x[::-1]\n",
        "\n",
        "#driver code\n",
        "\n",
        "x = \"malayala\"\n",
        "ans = isPalindrome(x)\n",
        "\n",
        "if ans:\n",
        "  print(\"yes\")\n",
        "else:\n",
        "  print(\"no\")"
      ],
      "execution_count": null,
      "outputs": [
        {
          "output_type": "stream",
          "text": [
            "no\n"
          ],
          "name": "stdout"
        }
      ]
    },
    {
      "cell_type": "code",
      "metadata": {
        "id": "3cIs4Zln3G_7",
        "colab_type": "code",
        "colab": {
          "base_uri": "https://localhost:8080/",
          "height": 34
        },
        "outputId": "a7d2e2ad-57e1-46ed-d510-fe236d84555e"
      },
      "source": [
        "def isPalindrome(x):\n",
        "  if x == x[::-1]:\n",
        "    print(\"yes\")\n",
        "  else:\n",
        "    print(\"no\")\n",
        "\n",
        "isPalindrome(\"rotato\")"
      ],
      "execution_count": null,
      "outputs": [
        {
          "output_type": "stream",
          "text": [
            "no\n"
          ],
          "name": "stdout"
        }
      ]
    },
    {
      "cell_type": "markdown",
      "metadata": {
        "id": "AJMJkZdQ3h5O",
        "colab_type": "text"
      },
      "source": [
        "Fizzbuzz: Write a Python program which iterates the integers from 1 to 50. For multiples of three print \"Fizz\" instead of the number and for the multiples of five print \"Buzz\". For numbers which are multiples of both three and five print \"FizzBuzz\" (conditionals)."
      ]
    },
    {
      "cell_type": "code",
      "metadata": {
        "id": "lgJX80jm3kn5",
        "colab_type": "code",
        "colab": {
          "base_uri": "https://localhost:8080/",
          "height": 867
        },
        "outputId": "0559828b-7c7f-44d4-9fda-1cf2ea04b274"
      },
      "source": [
        "def fizzbuzz():\n",
        "  for i in range(1,51):\n",
        "    if i%3 == 0 and i%5 == 0:\n",
        "      print(\"FizzBuzz\")\n",
        "    elif i%3 == 0:\n",
        "      print(\"Fizz\")\n",
        "    elif i%5 == 0:\n",
        "      print(\"Buzz\")\n",
        "    else:\n",
        "      print(i)\n",
        "\n",
        "fizzbuzz()"
      ],
      "execution_count": null,
      "outputs": [
        {
          "output_type": "stream",
          "text": [
            "1\n",
            "2\n",
            "Fizz\n",
            "4\n",
            "Buzz\n",
            "Fizz\n",
            "7\n",
            "8\n",
            "Fizz\n",
            "Buzz\n",
            "11\n",
            "Fizz\n",
            "13\n",
            "14\n",
            "FizzBuzz\n",
            "16\n",
            "17\n",
            "Fizz\n",
            "19\n",
            "Buzz\n",
            "Fizz\n",
            "22\n",
            "23\n",
            "Fizz\n",
            "Buzz\n",
            "26\n",
            "Fizz\n",
            "28\n",
            "29\n",
            "FizzBuzz\n",
            "31\n",
            "32\n",
            "Fizz\n",
            "34\n",
            "Buzz\n",
            "Fizz\n",
            "37\n",
            "38\n",
            "Fizz\n",
            "Buzz\n",
            "41\n",
            "Fizz\n",
            "43\n",
            "44\n",
            "FizzBuzz\n",
            "46\n",
            "47\n",
            "Fizz\n",
            "49\n",
            "Buzz\n"
          ],
          "name": "stdout"
        }
      ]
    },
    {
      "cell_type": "markdown",
      "metadata": {
        "id": "3qoFBw5v5EOW",
        "colab_type": "text"
      },
      "source": [
        "Given a list of timestamps in sequential order, return a list of lists grouped by weekly aggregation.\n"
      ]
    },
    {
      "cell_type": "code",
      "metadata": {
        "id": "rsNaWMtE67Mp",
        "colab_type": "code",
        "colab": {}
      },
      "source": [
        "def weekgrouping(timelist):\n",
        "  "
      ],
      "execution_count": null,
      "outputs": []
    },
    {
      "cell_type": "markdown",
      "metadata": {
        "id": "QLxht56t611R",
        "colab_type": "text"
      },
      "source": [
        "Given a list of characters, a list of prior of probabilities for each character, and a matrix of probabilities for each character combination, return the optimal sequence for the highest probability.\n"
      ]
    },
    {
      "cell_type": "code",
      "metadata": {
        "id": "vY0ZB0sk67uz",
        "colab_type": "code",
        "colab": {}
      },
      "source": [
        ""
      ],
      "execution_count": null,
      "outputs": []
    },
    {
      "cell_type": "markdown",
      "metadata": {
        "id": "a9d1wGrr629E",
        "colab_type": "text"
      },
      "source": [
        "Given a log file with rows featuring a date, a number, and then a string of names, parse the log file and return the count of unique names aggregated by month.\n"
      ]
    },
    {
      "cell_type": "code",
      "metadata": {
        "id": "HOZT_BXo68eQ",
        "colab_type": "code",
        "colab": {}
      },
      "source": [
        ""
      ],
      "execution_count": null,
      "outputs": []
    },
    {
      "cell_type": "markdown",
      "metadata": {
        "id": "1OUkb8NlCkaU",
        "colab_type": "text"
      },
      "source": [
        "OOP in python:\n"
      ]
    },
    {
      "cell_type": "code",
      "metadata": {
        "id": "jO7hvqk4CmT_",
        "colab_type": "code",
        "colab": {}
      },
      "source": [
        ""
      ],
      "execution_count": null,
      "outputs": []
    },
    {
      "cell_type": "markdown",
      "metadata": {
        "id": "4Kmy2-fIVdWW",
        "colab_type": "text"
      },
      "source": [
        "https://leetcode.com/problems/two-sum/"
      ]
    },
    {
      "cell_type": "markdown",
      "metadata": {
        "id": "QzYkJte4VifV",
        "colab_type": "text"
      },
      "source": [
        "Two sum: Given an array of integers, return indices of the two numbers such that they add up to a specific target.\n",
        "\n",
        "You may assume that each input would have exactly one solution, and you may not use the same element twice."
      ]
    },
    {
      "cell_type": "code",
      "metadata": {
        "id": "jOOQDUBSVdwv",
        "colab_type": "code",
        "colab": {}
      },
      "source": [
        ""
      ],
      "execution_count": null,
      "outputs": []
    },
    {
      "cell_type": "markdown",
      "metadata": {
        "id": "P45o4fJ7CgN0",
        "colab_type": "text"
      },
      "source": [
        ""
      ]
    }
  ]
}